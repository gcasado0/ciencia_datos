{
  "nbformat": 4,
  "nbformat_minor": 0,
  "metadata": {
    "colab": {
      "private_outputs": true,
      "provenance": [],
      "authorship_tag": "ABX9TyN1IdfEB7cyeWSgY7kjrBXD",
      "include_colab_link": true
    },
    "kernelspec": {
      "name": "python3",
      "display_name": "Python 3"
    },
    "language_info": {
      "name": "python"
    }
  },
  "cells": [
    {
      "cell_type": "markdown",
      "metadata": {
        "id": "view-in-github",
        "colab_type": "text"
      },
      "source": [
        "<a href=\"https://colab.research.google.com/github/gcasado0/ciencia_datos/blob/master/Regresion_Lineal.ipynb\" target=\"_parent\"><img src=\"https://colab.research.google.com/assets/colab-badge.svg\" alt=\"Open In Colab\"/></a>"
      ]
    },
    {
      "cell_type": "code",
      "source": [
        "import seaborn as sns\n",
        "import statsmodels.formula.api as smf\n",
        "import pandas as pd"
      ],
      "metadata": {
        "id": "vOq5XZ11wGKd"
      },
      "execution_count": null,
      "outputs": []
    },
    {
      "cell_type": "code",
      "source": [
        "data_penguins = sns.load_dataset('penguins')\n",
        "sns.scatterplot(y = 'body_mass_g', x = 'flipper_length_mm', data = data_penguins);"
      ],
      "metadata": {
        "id": "rgIy7Kl0xpv0"
      },
      "execution_count": null,
      "outputs": []
    },
    {
      "cell_type": "code",
      "execution_count": null,
      "metadata": {
        "id": "-fXHlIuGvfMA"
      },
      "outputs": [],
      "source": [
        "\n",
        "# Generamos la matriz de correlación\n",
        "matriz = data_penguins[['bill_length_mm', 'bill_depth_mm', 'flipper_length_mm', 'body_mass_g']].corr()\n",
        "\n",
        "# Construimos el heatmap\n",
        "sns.heatmap(matriz, annot = True);"
      ]
    },
    {
      "cell_type": "code",
      "source": [
        "# aplicamos OLS\n",
        "modelo = smf.ols(formula = 'body_mass_g ~ flipper_length_mm', data = data_penguins).fit()\n",
        "modelo.summary()\n"
      ],
      "metadata": {
        "id": "iOASP0zhyIxu"
      },
      "execution_count": null,
      "outputs": []
    },
    {
      "cell_type": "markdown",
      "source": [
        "$ \\hat{y} = -5780.8314 + 5780.8314 * flipperlength (mm)$"
      ],
      "metadata": {
        "id": "miz5hmop23ju"
      }
    },
    {
      "cell_type": "markdown",
      "source": [
        "**Determinación del modelo ($R^2$):**\n",
        "\n",
        "El modelo planteado explica el 75.9% de la variabilidad de la masa corporal de los pinguinos.\n"
      ],
      "metadata": {
        "id": "8NNbkKx4-dod"
      }
    },
    {
      "cell_type": "code",
      "source": [
        "sns.regplot(y = 'body_mass_g', x = 'flipper_length_mm', data = data_penguins, ci=False, line_kws=dict(color='red'));"
      ],
      "metadata": {
        "id": "BofLD7xk3UTR"
      },
      "execution_count": null,
      "outputs": []
    },
    {
      "cell_type": "code",
      "source": [
        "# residuos\n",
        "modelo.resid"
      ],
      "metadata": {
        "id": "5mT7S4g64mXy"
      },
      "execution_count": null,
      "outputs": []
    },
    {
      "cell_type": "code",
      "source": [
        "# Prediccion de la masa corporal a partir de la longitud de la aleta\n",
        "peso_predecir = pd.DataFrame({'flipper_length_mm': [207]})\n",
        "peso_predecir['body_mass_g_estimada'] = modelo.predict(peso_predecir)\n",
        "peso_predecir\n"
      ],
      "metadata": {
        "id": "85g3eppK5XXi"
      },
      "execution_count": null,
      "outputs": []
    }
  ]
}